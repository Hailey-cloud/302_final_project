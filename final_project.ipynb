{
 "cells": [
  {
   "cell_type": "markdown",
   "id": "ac3bb46a-c0da-481b-94de-7a5c579b263d",
   "metadata": {},
   "source": [
    "# Bank Customer Churn Prediction \n",
    "\n",
    "## This project aims to build a classification model to predict whether a bank customer will churn. Identify the most influential features contributing to churn and develop a high-performance model to detect at-risk customers in advance.\n",
    "\n",
    "______________________________________________________________________________________________________________________________________"
   ]
  },
  {
   "cell_type": "markdown",
   "id": "41f2df26-e264-4b2a-83c5-6699f022b322",
   "metadata": {},
   "source": [
    "## Problem Statement\n",
    "\n",
    "### Objective\n",
    "\n",
    "To forecast future churn (Exited) for each customer (ID) based on their informations.\n",
    "This will contribute to:\n",
    "\n",
    "・Making Strategy and approaches for future customer who will churn\n",
    "\n",
    "\n",
    "\n",
    "### Problem Type\n",
    "Classification problem\n",
    "\n",
    "### Objective Variable (Target)\n",
    "Exited:customer who churned bank\n",
    "\n",
    "### Evaluation Metric\n",
    "\n",
    "RMSLE (Root Mean Squared Logarithmic Error):\n",
    "Calculated using the root mean square of the logarithmic difference between forecast and actual sales.\n"
   ]
  },
  {
   "cell_type": "code",
   "execution_count": null,
   "id": "b21ca4d5-f0b6-42cf-93df-4447d896aac9",
   "metadata": {},
   "outputs": [],
   "source": [
    "# import libraries\n",
    "\n",
    "# 1. to handle the data\n",
    "import pandas as pd\n",
    "import numpy as np\n",
    "\n",
    "# to visualize the dataset\n",
    "import matplotlib.pyplot as plt\n",
    "import seaborn as sns\n",
    "import plotly.express as px\n",
    "from plotly.subplots import make_subplots\n",
    "import plotly.graph_objects as go\n",
    "\n",
    "# this is for jupyter notebook to show the plot in the notebook itself instead of opening a new window\n",
    "%matplotlib inline\n",
    "\n",
    "# To preprocess the data\n",
    "from sklearn.preprocessing import StandardScaler, LabelEncoder, MinMaxScaler\n",
    "\n",
    "# machine learning\n",
    "from sklearn.model_selection import train_test_split\n",
    "from sklearn.model_selection import StratifiedKFold\n",
    "from sklearn.feature_extraction.text import TfidfVectorizer\n",
    "from sklearn.decomposition import TruncatedSVD\n",
    "#Model\n",
    "import lightgbm as lgb\n",
    "\n",
    "#Evaluation\n",
    "from sklearn.metrics import roc_auc_score\n",
    "\n",
    "# ignore warnings   \n",
    "import warnings\n",
    "warnings.filterwarnings('ignore')"
   ]
  },
  {
   "cell_type": "code",
   "execution_count": null,
   "id": "231633b2-1374-4c12-9710-7895186aff47",
   "metadata": {},
   "outputs": [],
   "source": [
    "import os\n",
    "for dirname, _, filenames in os.walk('/kaggle/input'):\n",
    "    for filename in filenames:\n",
    "        print(os.path.join(dirname, filename))"
   ]
  },
  {
   "cell_type": "code",
   "execution_count": null,
   "id": "3dc33d23-5edc-4e46-8539-e262110bc6e6",
   "metadata": {},
   "outputs": [],
   "source": [
    "import zipfile\n",
    "\n",
    "with zipfile.ZipFile('playground-series-s4e1.zip', 'r') as zip_ref:\n",
    "    zip_ref.extractall('data')"
   ]
  },
  {
   "cell_type": "code",
   "execution_count": null,
   "id": "7d99631a-5bb2-48cf-91d1-b13dfa925b19",
   "metadata": {},
   "outputs": [],
   "source": [
    "# Load Submission Data \n",
    "df_submission = pd.read_csv('data/sample_submission.csv')\n",
    "# Load test Data \n",
    "df_test = pd.read_csv('data/test.csv')\n",
    "# Load Train Dataset and show head of Data \n",
    "#Train Data \n",
    "df_train = pd.read_csv('data/train.csv')"
   ]
  },
  {
   "cell_type": "code",
   "execution_count": null,
   "id": "3a50b0f0-4d61-4e2b-8f0f-9598ae86dfae",
   "metadata": {},
   "outputs": [],
   "source": []
  },
  {
   "cell_type": "markdown",
   "id": "73bae313-0d64-4603-8196-862605ee72b9",
   "metadata": {},
   "source": [
    "## EDA"
   ]
  },
  {
   "cell_type": "code",
   "execution_count": null,
   "id": "ba334278-be15-433c-88d9-7bdf927a605b",
   "metadata": {},
   "outputs": [],
   "source": [
    "print(f'Sample submission file: {df_submission.shape}\\n')\n",
    "\n",
    "print(f'Infomation :\\n{df_submission.info()}')\n",
    "df_submission.head()"
   ]
  },
  {
   "cell_type": "code",
   "execution_count": null,
   "id": "74c0b4d0-b75e-416d-b360-6ad1588ccf43",
   "metadata": {},
   "outputs": [],
   "source": [
    "print(f'Test file:\\n{df_test.shape}\\n')\n",
    "\n",
    "\n",
    "print(f'Infomation :\\n{df_test.info()}')\n",
    "df_test.head()"
   ]
  },
  {
   "cell_type": "code",
   "execution_count": null,
   "id": "de783590-bfbf-46b9-8c44-f07a4c13a903",
   "metadata": {},
   "outputs": [],
   "source": [
    "print(f'Train file:\\n{df_train.shape}')\n",
    "\n",
    "print(f'Infomation :\\n{df_train.info()}')\n",
    "df_train.head()"
   ]
  },
  {
   "cell_type": "code",
   "execution_count": null,
   "id": "cc93b9c4-3d93-4b58-9ba7-a98f02d2517e",
   "metadata": {},
   "outputs": [],
   "source": [
    "files = [df_submission, df_train, df_test]\n",
    "names = ['df_submission', 'df_train', 'df_test']\n",
    "\n",
    "for name, df in zip(names, files):\n",
    "    if df.isnull().sum().sum() == 0:\n",
    "        print(f'{name} does not have null values.')\n",
    "    else:\n",
    "        print(f'{name} has null values:')\n",
    "        print(df.isnull().sum())"
   ]
  },
  {
   "cell_type": "code",
   "execution_count": null,
   "id": "697a3169-3ba9-4413-9937-92f645af1ccb",
   "metadata": {},
   "outputs": [],
   "source": [
    "files = [df_submission, df_train, df_test]\n",
    "names = ['df_submission', 'df_train', 'df_test']\n",
    "\n",
    "for name, df in zip(names, files):\n",
    "    if df.duplicated().sum().sum() == 0:\n",
    "        print(f'{name} does not have duplicated values.')\n",
    "    else:\n",
    "        print(f'{name} has duplicated values:')\n",
    "        print(df.duplicated().sum())"
   ]
  },
  {
   "cell_type": "code",
   "execution_count": null,
   "id": "dd2493be-64eb-464f-9a84-80fce9c67afd",
   "metadata": {},
   "outputs": [],
   "source": [
    "df_test.describe()"
   ]
  },
  {
   "cell_type": "code",
   "execution_count": null,
   "id": "6e095882-d680-4cf9-85c8-67d11b98b172",
   "metadata": {},
   "outputs": [],
   "source": [
    "df_train.describe()"
   ]
  },
  {
   "cell_type": "markdown",
   "id": "21aa100e-2da0-4d9e-ac30-338d68c620e9",
   "metadata": {},
   "source": [
    "## Destribution of Target Feature"
   ]
  },
  {
   "cell_type": "code",
   "execution_count": null,
   "id": "9b748a78-5f94-44ce-87e5-40785ba20555",
   "metadata": {},
   "outputs": [],
   "source": [
    "import seaborn as sns\n",
    "import matplotlib.pyplot as plt\n",
    "\n",
    "sns.countplot(x='Exited', data=df_train)\n",
    "plt.show()"
   ]
  },
  {
   "cell_type": "code",
   "execution_count": null,
   "id": "67b56563-2177-498b-94b3-61f6a8c46186",
   "metadata": {},
   "outputs": [],
   "source": [
    "import matplotlib.pyplot as plt\n",
    "import seaborn as sns\n",
    "\n",
    "# 'Exited' を含めてからプロット対象を決める\n",
    "train_columns = df_train.drop(['id', 'Surname', 'CustomerId'], axis=1)\n",
    "\n",
    "num_cols = train_columns.drop('Exited', axis=1).columns\n",
    "n_cols = 3  # 横方向の列数\n",
    "n_rows = 4  # 縦方向の行数\n",
    "\n",
    "fig, axes = plt.subplots(n_rows, n_cols, figsize=(20, 12))\n",
    "axes = axes.flatten()\n",
    "\n",
    "for i, col in enumerate(num_cols):\n",
    "    ax = axes[i]\n",
    "    sns.histplot(data=train_columns, x=col, hue='Exited', multiple='stack', bins=30, ax=ax)\n",
    "    ax.set_title(f'{col}')\n",
    "    ax.set_xlabel('')\n",
    "    ax.set_ylabel('')\n",
    "\n",
    "# 余った枠があれば非表示にする\n",
    "for j in range(len(num_cols), len(axes)):\n",
    "    fig.delaxes(axes[j])\n",
    "\n",
    "plt.tight_layout()\n",
    "plt.show()\n"
   ]
  },
  {
   "cell_type": "markdown",
   "id": "8c8c2512-19c5-4539-9d29-d67fc0b79b42",
   "metadata": {},
   "source": [
    "## Visualization"
   ]
  },
  {
   "cell_type": "markdown",
   "id": "4881d2c8-4e77-4867-902a-6874ed663e70",
   "metadata": {},
   "source": [
    "## Age vs Exited"
   ]
  },
  {
   "cell_type": "code",
   "execution_count": null,
   "id": "08cdbe2b-7b0a-49bc-94db-1f1933d52c69",
   "metadata": {},
   "outputs": [],
   "source": [
    "import pandas as pd\n",
    "import matplotlib.pyplot as plt\n",
    "\n",
    "# 1. ビンの定義と分割\n",
    "bin_edges = list(range(10, 81, 10))  # [10, 20, 30, ..., 80]\n",
    "bin_labels = [f\"{i}〜{i+10}\" for i in bin_edges[:-1]]\n",
    "df_train['Age_bin'] = pd.cut(df_train['Age'], bins=bin_edges, labels=bin_labels, right=False)\n",
    "\n",
    "# 2. カウント集計（Exited=0,1）\n",
    "age_bin_counts = df_train.groupby(['Age_bin', 'Exited']).size().unstack(fill_value=0)\n",
    "\n",
    "# 3. 総数と割合の計算\n",
    "age_bin_counts['Total'] = age_bin_counts[0] + age_bin_counts[1]\n",
    "age_bin_counts['Exited_0_pct'] = (age_bin_counts[0] / age_bin_counts['Total'] * 100).round(1)\n",
    "age_bin_counts['Exited_1_pct'] = (age_bin_counts[1] / age_bin_counts['Total'] * 100).round(1)\n",
    "\n",
    "# 4. プロット（積み上げ棒グラフ）\n",
    "ax = age_bin_counts[[0, 1]].plot(kind='bar', stacked=True, figsize=(13,5))\n",
    "\n",
    "# 5. アノテーションの追加\n",
    "for idx, rect in enumerate(ax.patches):\n",
    "    # 棒グラフは左から [Exited=0, Exited=1, Exited=0, Exited=1, ...]\n",
    "    bin_idx = idx // 2  # 年代のインデックス\n",
    "    exited_type = idx % 2  # 0: Stayed, 1: Exited\n",
    "\n",
    "    value = rect.get_height()\n",
    "    if exited_type == 1:  # 一番上のバーにだけ注釈を書く\n",
    "        total = age_bin_counts.iloc[bin_idx]['Total']\n",
    "        pct_0 = age_bin_counts.iloc[bin_idx]['Exited_0_pct']\n",
    "        pct_1 = age_bin_counts.iloc[bin_idx]['Exited_1_pct']\n",
    "        x_pos = rect.get_x() + rect.get_width() / 2\n",
    "        y_pos = rect.get_y() + rect.get_height()\n",
    "        ax.text(x_pos, y_pos + 1, f\"Total: {int(total)}\\n {pct_0}%,  {pct_1}%\", \n",
    "                ha='center', va='bottom', fontsize=10)\n",
    "\n",
    "# 6. ラベル調整\n",
    "plt.title(\"Customer Exits by Age Group (with total and %)\")\n",
    "plt.xlabel(\"Age Group\")\n",
    "plt.ylabel(\"Number of Customers\")\n",
    "plt.xticks(rotation=45)\n",
    "plt.legend(title='Exited', labels=['Stayed (0)', 'Exited (1)'])\n",
    "plt.tight_layout()\n",
    "plt.show()\n"
   ]
  },
  {
   "cell_type": "markdown",
   "id": "a4a4564e-1cac-4f70-bbd4-b572d1252e0f",
   "metadata": {},
   "source": [
    "## Gender vs Exited"
   ]
  },
  {
   "cell_type": "code",
   "execution_count": null,
   "id": "f1832ecb-6a21-4a6d-8d9a-7e1fc8e74760",
   "metadata": {},
   "outputs": [],
   "source": [
    "import matplotlib.pyplot as plt\n",
    "from matplotlib.patches import Patch\n",
    "\n",
    "# 集計\n",
    "gender_exit = df_train.groupby(['Gender', 'Exited']).size().unstack(fill_value=0)\n",
    "gender_exit['Total'] = gender_exit[0] + gender_exit[1]\n",
    "gender_exit['Exited_0_pct'] = (gender_exit[0] / gender_exit['Total'] * 100).round(1)\n",
    "gender_exit['Exited_1_pct'] = (gender_exit[1] / gender_exit['Total'] * 100).round(1)\n",
    "\n",
    "# 色の定義\n",
    "colors = ['royalblue', 'crimson']\n",
    "\n",
    "# プロット\n",
    "ax = gender_exit[[0, 1]].plot(kind='bar', stacked=True, figsize=(9, 5), color=colors)\n",
    "\n",
    "# ラベル・タイトル設定\n",
    "plt.title(\"Customer Exits by Gender\")\n",
    "plt.xlabel(\"Gender\")\n",
    "plt.ylabel(\"Number of Customers\")\n",
    "plt.xticks(rotation=0)\n",
    "\n",
    "# --- 手動凡例の作成 ---\n",
    "legend_elements = [\n",
    "    Patch(facecolor='royalblue', label='Stayed (0)'),\n",
    "    Patch(facecolor='crimson', label='Exited (1)'),\n",
    "    Patch(facecolor='white', edgecolor='white', label=f\"Female: Total {int(gender_exit.loc['Female', 'Total'])}\\n  {gender_exit.loc['Female', 'Exited_0_pct']}%,  {gender_exit.loc['Female', 'Exited_1_pct']}%\"),\n",
    "    Patch(facecolor='white', edgecolor='white', label=f\"Male: Total {int(gender_exit.loc['Male', 'Total'])}\\n  {gender_exit.loc['Male', 'Exited_0_pct']}%,  {gender_exit.loc['Male', 'Exited_1_pct']}%\")\n",
    "]\n",
    "\n",
    "plt.legend(handles=legend_elements, loc='center left', bbox_to_anchor=(1.0, 0.5), title='Exited Info', frameon=False)\n",
    "\n",
    "plt.tight_layout()\n",
    "plt.show()\n"
   ]
  },
  {
   "cell_type": "markdown",
   "id": "6906c49e-f53f-425b-80fc-56d2d84a482b",
   "metadata": {},
   "source": [
    "## Feature Engineering"
   ]
  },
  {
   "cell_type": "code",
   "execution_count": null,
   "id": "2ca8f6ff-c292-43f8-8dd2-3114b34400de",
   "metadata": {},
   "outputs": [],
   "source": [
    "df_train['is_test'] = 0\n",
    "df_test['is_test'] = 1\n",
    "df_merged = pd.concat([df_train,df_test],ignore_index=True)\n"
   ]
  },
  {
   "cell_type": "code",
   "execution_count": null,
   "id": "f2a1879c-d2f4-4f9b-8a12-5ccc40d7de2f",
   "metadata": {},
   "outputs": [],
   "source": [
    "\n",
    "df_encoded = pd.get_dummies(df_merged, columns=[\"Gender\", \"Geography\",'Age_bin'], dtype=int)\n",
    "df_encoded = df_encoded.drop(['Surname','id','CustomerId'],axis=1)\n",
    "\n",
    "df_encoded.head()\n"
   ]
  },
  {
   "cell_type": "code",
   "execution_count": null,
   "id": "24ded17f-80cd-4646-93d5-a98fa5389b3e",
   "metadata": {},
   "outputs": [],
   "source": [
    "import numpy as np\n",
    "import seaborn as sb\n",
    "import matplotlib.pyplot as plt\n",
    "\n",
    "# 相関行列を計算\n",
    "corr = df_encoded.corr()\n",
    "\n",
    "# アノテーション行列を文字列に変換（小数第2位まで）\n",
    "annot_matrix = corr.round(2).astype(str)\n",
    "\n",
    "# -0.05 〜 +0.05 の範囲を空欄にする\n",
    "annot_matrix[(corr >= -0.2) & (corr <= 0.2)] = \"\"\n",
    "\n",
    "# ヒートマップ描画\n",
    "plt.figure(figsize=(15, 10))\n",
    "sb.heatmap(corr, annot=annot_matrix, fmt='', cmap='coolwarm', square=True, cbar=True)\n",
    "plt.title('Correlation of Features')\n",
    "plt.show()\n"
   ]
  },
  {
   "cell_type": "markdown",
   "id": "6fb5beb5-3502-4f8a-892f-aac57f612e92",
   "metadata": {},
   "source": [
    "## ML"
   ]
  },
  {
   "cell_type": "code",
   "execution_count": null,
   "id": "0acb36ba-91cc-4f7e-9fb2-b83811bdd2c7",
   "metadata": {},
   "outputs": [],
   "source": [
    "# Separate train and test sets\n",
    "kaggle_test_df = df_encoded[df_encoded['is_test'] == 1]\n",
    "full_train_df = df_encoded[df_encoded['is_test'] == 0]"
   ]
  },
  {
   "cell_type": "code",
   "execution_count": null,
   "id": "f0e4f4a2-a6ff-4b0a-9463-e708379c5f78",
   "metadata": {},
   "outputs": [],
   "source": [
    "# Compute index to split 80/20\n",
    "split_index = int(len(full_train_df) * 0.8)\n",
    "\n",
    "# 80% train, 20% validation\n",
    "train = full_train_df.iloc[:split_index]\n",
    "valid = full_train_df.iloc[split_index:]\n",
    "\n",
    "# Separate features/targets\n",
    "drop_cols = ['Exited','is_test']\n",
    "\n",
    "X_train = train.drop(columns=drop_cols)\n",
    "y_train = train['Exited']\n",
    "\n",
    "X_valid = valid.drop(columns=drop_cols)\n",
    "y_valid = valid['Exited']"
   ]
  },
  {
   "cell_type": "code",
   "execution_count": null,
   "id": "8ae47a76-5eb5-4b3b-82de-bf418c7e5cbb",
   "metadata": {},
   "outputs": [],
   "source": [
    "from sklearn.linear_model import LogisticRegression\n",
    "\n",
    "\n",
    "lr = LogisticRegression()\n",
    "lr.fit(X_train, y_train)"
   ]
  },
  {
   "cell_type": "code",
   "execution_count": null,
   "id": "0b77eadb-2953-446e-9ec2-ecf8234daeed",
   "metadata": {},
   "outputs": [],
   "source": [
    "print(\"coefficient = \", lr.coef_)\n",
    "print(\"intercept = \", lr.intercept_)"
   ]
  },
  {
   "cell_type": "code",
   "execution_count": null,
   "id": "d9fe4c38-6430-4406-a512-847df530990e",
   "metadata": {},
   "outputs": [],
   "source": [
    "Y_pred = lr.predict(X_valid)\n",
    "print(Y_pred)"
   ]
  },
  {
   "cell_type": "code",
   "execution_count": null,
   "id": "b7c8f9e3-9671-48ff-bc0f-a4cd53464213",
   "metadata": {},
   "outputs": [],
   "source": [
    "from sklearn.metrics import confusion_matrix, accuracy_score, precision_score, recall_score, f1_score\n",
    "\n",
    "print('confusion matrix = \\n', confusion_matrix(y_true=y_valid, y_pred=Y_pred))\n",
    "print('accuracy = ', accuracy_score(y_true=y_valid, y_pred=Y_pred))\n",
    "print('precision = ', precision_score(y_true=y_valid, y_pred=Y_pred))\n",
    "print('recall = ', recall_score(y_true=y_valid, y_pred=Y_pred))\n",
    "print('f1 score = ', f1_score(y_true=y_valid, y_pred=Y_pred))"
   ]
  },
  {
   "cell_type": "code",
   "execution_count": null,
   "id": "ac3f7cad-550e-417c-98d7-98244ef61c62",
   "metadata": {},
   "outputs": [],
   "source": [
    "# from imblearn.over_sampling import SMOTE\n",
    "# smote = SMOTE(random_state=42)\n",
    "# X_resampled, y_resampled = smote.fit_resample(X_train, y_train)\n"
   ]
  },
  {
   "cell_type": "code",
   "execution_count": null,
   "id": "95c20bfc-fa4c-4a9e-a6d7-56d1137bbedf",
   "metadata": {},
   "outputs": [],
   "source": [
    "from sklearn.tree import DecisionTreeClassifier\n",
    "dt = DecisionTreeClassifier(class_weight='balanced', random_state=42)\n",
    "\n",
    "dt.fit(X_train, y_train)\n",
    "score = dt.score(X_valid, y_valid)\n",
    "score"
   ]
  },
  {
   "cell_type": "code",
   "execution_count": null,
   "id": "c425716e-00a0-4d16-8aae-fbc8ed943da9",
   "metadata": {
    "scrolled": true
   },
   "outputs": [],
   "source": [
    "# from sklearn.tree import plot_tree\n",
    "# plot_tree(dt, feature_names=X_train.columns, filled=True)"
   ]
  },
  {
   "cell_type": "code",
   "execution_count": null,
   "id": "e340a59e-b88d-4e1d-b177-cacd38dc6956",
   "metadata": {},
   "outputs": [],
   "source": [
    "from sklearn.metrics import classification_report, confusion_matrix\n",
    "pred = dt.predict(X_valid)\n",
    "\n",
    "# ここで labels を指定する\n",
    "cm = confusion_matrix(y_valid, pred, labels=[0, 1])\n",
    "\n",
    "# DataFrame に変換\n",
    "df_cm = pd.DataFrame(cm, columns=['pred0', 'pred1'], index=['y0', 'y1'])\n",
    "print(df_cm)"
   ]
  },
  {
   "cell_type": "code",
   "execution_count": null,
   "id": "d3d5af57-23fa-44d1-98e7-31a374823790",
   "metadata": {},
   "outputs": [],
   "source": [
    "print(classification_report(y_valid, pred))"
   ]
  }
 ],
 "metadata": {
  "kernelspec": {
   "display_name": "Python 3 (ipykernel)",
   "language": "python",
   "name": "python3"
  },
  "language_info": {
   "codemirror_mode": {
    "name": "ipython",
    "version": 3
   },
   "file_extension": ".py",
   "mimetype": "text/x-python",
   "name": "python",
   "nbconvert_exporter": "python",
   "pygments_lexer": "ipython3",
   "version": "3.11.7"
  }
 },
 "nbformat": 4,
 "nbformat_minor": 5
}
